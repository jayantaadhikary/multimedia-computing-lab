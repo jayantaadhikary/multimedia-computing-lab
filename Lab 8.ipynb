{
 "cells": [
  {
   "cell_type": "code",
   "execution_count": 1,
   "id": "d9f0d6c1",
   "metadata": {},
   "outputs": [
    {
     "name": "stdout",
     "output_type": "stream",
     "text": [
      "Original Data: ABABABABA\n",
      "Compressed Data: [65, 66, 256, 258, 257]\n",
      "Decompressed Data: ABABABABA\n"
     ]
    }
   ],
   "source": [
    "def lzw_compress(data):\n",
    "    dictionary = {chr(i): i for i in range(256)}\n",
    "    next_code = 256\n",
    "    result = []\n",
    "    current_code = ''\n",
    "\n",
    "    for char in data:\n",
    "        current_code += char\n",
    "        if current_code not in dictionary:\n",
    "            dictionary[current_code] = next_code\n",
    "            next_code += 1\n",
    "            result.append(dictionary[current_code[:-1]])\n",
    "            current_code = char\n",
    "\n",
    "    if current_code in dictionary:\n",
    "        result.append(dictionary[current_code])\n",
    "\n",
    "    return result\n",
    "\n",
    "\n",
    "def lzw_decompress(compressed_data):\n",
    "    dictionary = {i: chr(i) for i in range(256)}\n",
    "    next_code = 256\n",
    "    result = []\n",
    "    current_code = chr(compressed_data[0])\n",
    "    result.append(current_code)\n",
    "\n",
    "    for code in compressed_data[1:]:\n",
    "        if code in dictionary:\n",
    "            entry = dictionary[code]\n",
    "        elif code == next_code:\n",
    "            entry = current_code + current_code[0]\n",
    "        else:\n",
    "            raise ValueError(\"Invalid LZW compressed data\")\n",
    "\n",
    "        result.append(entry)\n",
    "        dictionary[next_code] = current_code + entry[0]\n",
    "        next_code += 1\n",
    "        current_code = entry\n",
    "\n",
    "    return ''.join(result)\n",
    "\n",
    "\n",
    "# Example Usage:\n",
    "original_data = \"ABABABABA\"\n",
    "compressed_data = lzw_compress(original_data)\n",
    "print(\"Original Data:\", original_data)\n",
    "print(\"Compressed Data:\", compressed_data)\n",
    "\n",
    "decompressed_data = lzw_decompress(compressed_data)\n",
    "print(\"Decompressed Data:\", decompressed_data)\n"
   ]
  },
  {
   "cell_type": "code",
   "execution_count": null,
   "id": "d8d8e9be",
   "metadata": {},
   "outputs": [],
   "source": []
  }
 ],
 "metadata": {
  "kernelspec": {
   "display_name": "Python 3 (ipykernel)",
   "language": "python",
   "name": "python3"
  },
  "language_info": {
   "codemirror_mode": {
    "name": "ipython",
    "version": 3
   },
   "file_extension": ".py",
   "mimetype": "text/x-python",
   "name": "python",
   "nbconvert_exporter": "python",
   "pygments_lexer": "ipython3",
   "version": "3.11.4"
  }
 },
 "nbformat": 4,
 "nbformat_minor": 5
}
